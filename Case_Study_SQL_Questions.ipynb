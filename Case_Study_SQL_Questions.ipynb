{
 "cells": [
  {
   "cell_type": "markdown",
   "metadata": {
    "id": "WEiBwlhgYtYx"
   },
   "source": [
    "# Case Study on SQL\n"
   ]
  },
  {
   "cell_type": "code",
   "execution_count": 164,
   "metadata": {
    "id": "Q6xrAf0CgwyW"
   },
   "outputs": [],
   "source": [
    "import sqlite3\n",
    "import pandas as pd"
   ]
  },
  {
   "cell_type": "code",
   "execution_count": 165,
   "metadata": {
    "id": "YOO65TNTg7fg"
   },
   "outputs": [],
   "source": [
    "def load_imdb_database(db_path):\n",
    "  try:\n",
    "    conn = sqlite3.connect(db_path)\n",
    "    print(\"IMDB database loaded successfully.\")\n",
    "    return conn\n",
    "  except sqlite3.Error as e:\n",
    "    print(f\"Error loading IMDB database: {e}\")\n",
    "    return None"
   ]
  },
  {
   "cell_type": "code",
   "execution_count": 166,
   "metadata": {
    "colab": {
     "base_uri": "https://localhost:8080/"
    },
    "id": "-0Th69XEghxi",
    "outputId": "d560fd50-0f2f-4462-a15e-46ddcb114534"
   },
   "outputs": [
    {
     "name": "stdout",
     "output_type": "stream",
     "text": [
      "IMDB database loaded successfully.\n",
      "Connection successful\n"
     ]
    }
   ],
   "source": [
    "db_path = \"imdb.db\"\n",
    "conn = load_imdb_database(db_path)\n",
    "\n",
    "if conn:\n",
    "  print(\"Connection successful\")\n",
    "  cursor = conn.cursor()"
   ]
  },
  {
   "cell_type": "markdown",
   "metadata": {
    "id": "OyMdDsyWakEL"
   },
   "source": [
    "## Following is the schema of the IMDB database. It lists all tables and their schemas.\n",
    "\n"
   ]
  },
  {
   "cell_type": "code",
   "execution_count": 167,
   "metadata": {
    "colab": {
     "base_uri": "https://localhost:8080/"
    },
    "id": "QHglU6mobmV3",
    "outputId": "c7f47151-a58d-46aa-e34a-be12da99d498"
   },
   "outputs": [
    {
     "name": "stdout",
     "output_type": "stream",
     "text": [
      "Database Schema:\n",
      "\n",
      "Table: Movie\n",
      "Columns:\n",
      "  - index (INTEGER), NOT NULL: False, Default: None, Primary Key: False\n",
      "  - MID (TEXT), NOT NULL: False, Default: None, Primary Key: False\n",
      "  - title (TEXT), NOT NULL: False, Default: None, Primary Key: False\n",
      "  - year (TEXT), NOT NULL: False, Default: None, Primary Key: False\n",
      "  - rating (REAL), NOT NULL: False, Default: None, Primary Key: False\n",
      "  - num_votes (INTEGER), NOT NULL: False, Default: None, Primary Key: False\n",
      "\n",
      "Table: Genre\n",
      "Columns:\n",
      "  - index (INTEGER), NOT NULL: False, Default: None, Primary Key: False\n",
      "  - Name (TEXT), NOT NULL: False, Default: None, Primary Key: False\n",
      "  - GID (INTEGER), NOT NULL: False, Default: None, Primary Key: False\n",
      "\n",
      "Table: Language\n",
      "Columns:\n",
      "  - index (INTEGER), NOT NULL: False, Default: None, Primary Key: False\n",
      "  - Name (TEXT), NOT NULL: False, Default: None, Primary Key: False\n",
      "  - LAID (INTEGER), NOT NULL: False, Default: None, Primary Key: False\n",
      "\n",
      "Table: Country\n",
      "Columns:\n",
      "  - index (INTEGER), NOT NULL: False, Default: None, Primary Key: False\n",
      "  - Name (TEXT), NOT NULL: False, Default: None, Primary Key: False\n",
      "  - CID (INTEGER), NOT NULL: False, Default: None, Primary Key: False\n",
      "\n",
      "Table: Location\n",
      "Columns:\n",
      "  - index (INTEGER), NOT NULL: False, Default: None, Primary Key: False\n",
      "  - Name (TEXT), NOT NULL: False, Default: None, Primary Key: False\n",
      "  - LID (INTEGER), NOT NULL: False, Default: None, Primary Key: False\n",
      "\n",
      "Table: M_Location\n",
      "Columns:\n",
      "  - index (INTEGER), NOT NULL: False, Default: None, Primary Key: False\n",
      "  - MID (TEXT), NOT NULL: False, Default: None, Primary Key: False\n",
      "  - LID (REAL), NOT NULL: False, Default: None, Primary Key: False\n",
      "  - ID (INTEGER), NOT NULL: False, Default: None, Primary Key: False\n",
      "\n",
      "Table: M_Country\n",
      "Columns:\n",
      "  - index (INTEGER), NOT NULL: False, Default: None, Primary Key: False\n",
      "  - MID (TEXT), NOT NULL: False, Default: None, Primary Key: False\n",
      "  - CID (REAL), NOT NULL: False, Default: None, Primary Key: False\n",
      "  - ID (INTEGER), NOT NULL: False, Default: None, Primary Key: False\n",
      "\n",
      "Table: M_Language\n",
      "Columns:\n",
      "  - index (INTEGER), NOT NULL: False, Default: None, Primary Key: False\n",
      "  - MID (TEXT), NOT NULL: False, Default: None, Primary Key: False\n",
      "  - LAID (INTEGER), NOT NULL: False, Default: None, Primary Key: False\n",
      "  - ID (INTEGER), NOT NULL: False, Default: None, Primary Key: False\n",
      "\n",
      "Table: M_Genre\n",
      "Columns:\n",
      "  - index (INTEGER), NOT NULL: False, Default: None, Primary Key: False\n",
      "  - MID (TEXT), NOT NULL: False, Default: None, Primary Key: False\n",
      "  - GID (INTEGER), NOT NULL: False, Default: None, Primary Key: False\n",
      "  - ID (INTEGER), NOT NULL: False, Default: None, Primary Key: False\n",
      "\n",
      "Table: Person\n",
      "Columns:\n",
      "  - index (INTEGER), NOT NULL: False, Default: None, Primary Key: False\n",
      "  - PID (TEXT), NOT NULL: False, Default: None, Primary Key: False\n",
      "  - Name (TEXT), NOT NULL: False, Default: None, Primary Key: False\n",
      "  - Gender (TEXT), NOT NULL: False, Default: None, Primary Key: False\n",
      "\n",
      "Table: M_Producer\n",
      "Columns:\n",
      "  - index (INTEGER), NOT NULL: False, Default: None, Primary Key: False\n",
      "  - MID (TEXT), NOT NULL: False, Default: None, Primary Key: False\n",
      "  - PID (TEXT), NOT NULL: False, Default: None, Primary Key: False\n",
      "  - ID (INTEGER), NOT NULL: False, Default: None, Primary Key: False\n",
      "\n",
      "Table: M_Director\n",
      "Columns:\n",
      "  - index (INTEGER), NOT NULL: False, Default: None, Primary Key: False\n",
      "  - MID (TEXT), NOT NULL: False, Default: None, Primary Key: False\n",
      "  - PID (TEXT), NOT NULL: False, Default: None, Primary Key: False\n",
      "  - ID (INTEGER), NOT NULL: False, Default: None, Primary Key: False\n",
      "\n",
      "Table: M_Cast\n",
      "Columns:\n",
      "  - index (INTEGER), NOT NULL: False, Default: None, Primary Key: False\n",
      "  - MID (TEXT), NOT NULL: False, Default: None, Primary Key: False\n",
      "  - PID (TEXT), NOT NULL: False, Default: None, Primary Key: False\n",
      "  - ID (INTEGER), NOT NULL: False, Default: None, Primary Key: False\n"
     ]
    }
   ],
   "source": [
    "cursor.execute(\"SELECT name FROM sqlite_master WHERE type='table';\")\n",
    "tables = cursor.fetchall()\n",
    "\n",
    "print(\"Database Schema:\")\n",
    "for table in tables:\n",
    "    table_name = table[0]\n",
    "    print(f\"\\nTable: {table_name}\")\n",
    "\n",
    "    cursor.execute(f\"PRAGMA table_info({table_name});\")\n",
    "    schema = cursor.fetchall()\n",
    "\n",
    "    print(\"Columns:\")\n",
    "    for column in schema:\n",
    "        cid, name, dtype, notnull, dflt_value, pk = column\n",
    "        print(f\"  - {name} ({dtype}), NOT NULL: {bool(notnull)}, Default: {dflt_value}, Primary Key: {bool(pk)}\")"
   ]
  },
  {
   "cell_type": "markdown",
   "metadata": {
    "id": "At0HJhxwcWMV"
   },
   "source": [
    "# Write SQL queries for the following questions"
   ]
  },
  {
   "cell_type": "markdown",
   "metadata": {
    "id": "cHeY-4I-Y1Go"
   },
   "source": [
    "## 1. Write query to list first 5 rows of Person table\n",
    "\n",
    "\n",
    "\n"
   ]
  },
  {
   "cell_type": "code",
   "execution_count": 168,
   "metadata": {
    "id": "yTksEs_JHuK8"
   },
   "outputs": [
    {
     "data": {
      "text/html": [
       "<div>\n",
       "<style scoped>\n",
       "    .dataframe tbody tr th:only-of-type {\n",
       "        vertical-align: middle;\n",
       "    }\n",
       "\n",
       "    .dataframe tbody tr th {\n",
       "        vertical-align: top;\n",
       "    }\n",
       "\n",
       "    .dataframe thead th {\n",
       "        text-align: right;\n",
       "    }\n",
       "</style>\n",
       "<table border=\"1\" class=\"dataframe\">\n",
       "  <thead>\n",
       "    <tr style=\"text-align: right;\">\n",
       "      <th></th>\n",
       "      <th>index</th>\n",
       "      <th>PID</th>\n",
       "      <th>Name</th>\n",
       "      <th>Gender</th>\n",
       "    </tr>\n",
       "  </thead>\n",
       "  <tbody>\n",
       "    <tr>\n",
       "      <th>0</th>\n",
       "      <td>0</td>\n",
       "      <td>nm0000288</td>\n",
       "      <td>Christian Bale</td>\n",
       "      <td>Male</td>\n",
       "    </tr>\n",
       "    <tr>\n",
       "      <th>1</th>\n",
       "      <td>1</td>\n",
       "      <td>nm0000949</td>\n",
       "      <td>Cate Blanchett</td>\n",
       "      <td>Female</td>\n",
       "    </tr>\n",
       "    <tr>\n",
       "      <th>2</th>\n",
       "      <td>2</td>\n",
       "      <td>nm1212722</td>\n",
       "      <td>Benedict Cumberbatch</td>\n",
       "      <td>Male</td>\n",
       "    </tr>\n",
       "    <tr>\n",
       "      <th>3</th>\n",
       "      <td>3</td>\n",
       "      <td>nm0365140</td>\n",
       "      <td>Naomie Harris</td>\n",
       "      <td>Female</td>\n",
       "    </tr>\n",
       "    <tr>\n",
       "      <th>4</th>\n",
       "      <td>4</td>\n",
       "      <td>nm0785227</td>\n",
       "      <td>Andy Serkis</td>\n",
       "      <td>Male</td>\n",
       "    </tr>\n",
       "  </tbody>\n",
       "</table>\n",
       "</div>"
      ],
      "text/plain": [
       "   index        PID                   Name  Gender\n",
       "0      0  nm0000288         Christian Bale    Male\n",
       "1      1  nm0000949         Cate Blanchett  Female\n",
       "2      2  nm1212722   Benedict Cumberbatch    Male\n",
       "3      3  nm0365140          Naomie Harris  Female\n",
       "4      4  nm0785227            Andy Serkis    Male"
      ]
     },
     "execution_count": 168,
     "metadata": {},
     "output_type": "execute_result"
    }
   ],
   "source": [
    "q1 = \"\"\"select * from Person limit 5;\"\"\"\n",
    "result = pd.read_sql_query(q1, conn)\n",
    "result"
   ]
  },
  {
   "cell_type": "code",
   "execution_count": 169,
   "metadata": {
    "colab": {
     "base_uri": "https://localhost:8080/"
    },
    "id": "19rLGemCcoak",
    "outputId": "1dd3ed98-7c73-444d-af96-ec475c553487"
   },
   "outputs": [
    {
     "name": "stdout",
     "output_type": "stream",
     "text": [
      "True\n"
     ]
    }
   ],
   "source": [
    "def q1_grader(q1):\n",
    "  result = pd.read_sql_query(q1, conn)\n",
    "  return result.shape == (5, 4)\n",
    "print(q1_grader(q1))"
   ]
  },
  {
   "cell_type": "markdown",
   "metadata": {
    "id": "Cmuvp9h7dZWu"
   },
   "source": [
    "## 2. Write query to select title, year and rating from Movie table"
   ]
  },
  {
   "cell_type": "code",
   "execution_count": 170,
   "metadata": {
    "id": "g7MI-hJycPtn"
   },
   "outputs": [
    {
     "data": {
      "text/html": [
       "<div>\n",
       "<style scoped>\n",
       "    .dataframe tbody tr th:only-of-type {\n",
       "        vertical-align: middle;\n",
       "    }\n",
       "\n",
       "    .dataframe tbody tr th {\n",
       "        vertical-align: top;\n",
       "    }\n",
       "\n",
       "    .dataframe thead th {\n",
       "        text-align: right;\n",
       "    }\n",
       "</style>\n",
       "<table border=\"1\" class=\"dataframe\">\n",
       "  <thead>\n",
       "    <tr style=\"text-align: right;\">\n",
       "      <th></th>\n",
       "      <th>title</th>\n",
       "      <th>year</th>\n",
       "      <th>rating</th>\n",
       "    </tr>\n",
       "  </thead>\n",
       "  <tbody>\n",
       "    <tr>\n",
       "      <th>0</th>\n",
       "      <td>Mowgli</td>\n",
       "      <td>2018</td>\n",
       "      <td>6.6</td>\n",
       "    </tr>\n",
       "    <tr>\n",
       "      <th>1</th>\n",
       "      <td>Ocean's Eight</td>\n",
       "      <td>2018</td>\n",
       "      <td>6.2</td>\n",
       "    </tr>\n",
       "    <tr>\n",
       "      <th>2</th>\n",
       "      <td>Tomb Raider</td>\n",
       "      <td>2018</td>\n",
       "      <td>6.4</td>\n",
       "    </tr>\n",
       "    <tr>\n",
       "      <th>3</th>\n",
       "      <td>The Avengers</td>\n",
       "      <td>2012</td>\n",
       "      <td>8.1</td>\n",
       "    </tr>\n",
       "    <tr>\n",
       "      <th>4</th>\n",
       "      <td>Tumbbad</td>\n",
       "      <td>2018</td>\n",
       "      <td>8.5</td>\n",
       "    </tr>\n",
       "    <tr>\n",
       "      <th>...</th>\n",
       "      <td>...</td>\n",
       "      <td>...</td>\n",
       "      <td>...</td>\n",
       "    </tr>\n",
       "    <tr>\n",
       "      <th>3468</th>\n",
       "      <td>Allah-Rakha</td>\n",
       "      <td>1986</td>\n",
       "      <td>6.2</td>\n",
       "    </tr>\n",
       "    <tr>\n",
       "      <th>3469</th>\n",
       "      <td>Anari</td>\n",
       "      <td>1993</td>\n",
       "      <td>4.7</td>\n",
       "    </tr>\n",
       "    <tr>\n",
       "      <th>3470</th>\n",
       "      <td>Come December</td>\n",
       "      <td>2006</td>\n",
       "      <td>5.7</td>\n",
       "    </tr>\n",
       "    <tr>\n",
       "      <th>3471</th>\n",
       "      <td>Kala Jigar</td>\n",
       "      <td>1939</td>\n",
       "      <td>3.3</td>\n",
       "    </tr>\n",
       "    <tr>\n",
       "      <th>3472</th>\n",
       "      <td>Kanoon</td>\n",
       "      <td>1994</td>\n",
       "      <td>3.2</td>\n",
       "    </tr>\n",
       "  </tbody>\n",
       "</table>\n",
       "<p>3473 rows × 3 columns</p>\n",
       "</div>"
      ],
      "text/plain": [
       "              title  year  rating\n",
       "0            Mowgli  2018     6.6\n",
       "1     Ocean's Eight  2018     6.2\n",
       "2       Tomb Raider  2018     6.4\n",
       "3      The Avengers  2012     8.1\n",
       "4           Tumbbad  2018     8.5\n",
       "...             ...   ...     ...\n",
       "3468    Allah-Rakha  1986     6.2\n",
       "3469          Anari  1993     4.7\n",
       "3470  Come December  2006     5.7\n",
       "3471     Kala Jigar  1939     3.3\n",
       "3472         Kanoon  1994     3.2\n",
       "\n",
       "[3473 rows x 3 columns]"
      ]
     },
     "execution_count": 170,
     "metadata": {},
     "output_type": "execute_result"
    }
   ],
   "source": [
    "q2 = \"\"\"select title,year,rating from Movie;\"\"\"\n",
    "result = pd.read_sql_query(q2, conn)\n",
    "result"
   ]
  },
  {
   "cell_type": "markdown",
   "metadata": {
    "id": "EvD979LNeaFm"
   },
   "source": [
    "## 3. Write query to get title of first movie in movie table sorted by year in ascending order\n"
   ]
  },
  {
   "cell_type": "code",
   "execution_count": 171,
   "metadata": {
    "colab": {
     "base_uri": "https://localhost:8080/"
    },
    "id": "gyk9b2uvd5O6",
    "outputId": "15d217f4-f3c1-475a-b0ec-ce1c2557d113"
   },
   "outputs": [
    {
     "name": "stdout",
     "output_type": "stream",
     "text": [
      "True\n"
     ]
    }
   ],
   "source": [
    "def q2_grader(q2):\n",
    "  result = pd.read_sql_query(q2, conn)\n",
    "  return result.shape == (3473, 3) and result['title'][0]=='Mowgli'\n",
    "print(q2_grader(q2))"
   ]
  },
  {
   "cell_type": "code",
   "execution_count": 172,
   "metadata": {
    "id": "noFVuK27eczz"
   },
   "outputs": [
    {
     "data": {
      "text/html": [
       "<div>\n",
       "<style scoped>\n",
       "    .dataframe tbody tr th:only-of-type {\n",
       "        vertical-align: middle;\n",
       "    }\n",
       "\n",
       "    .dataframe tbody tr th {\n",
       "        vertical-align: top;\n",
       "    }\n",
       "\n",
       "    .dataframe thead th {\n",
       "        text-align: right;\n",
       "    }\n",
       "</style>\n",
       "<table border=\"1\" class=\"dataframe\">\n",
       "  <thead>\n",
       "    <tr style=\"text-align: right;\">\n",
       "      <th></th>\n",
       "      <th>title</th>\n",
       "    </tr>\n",
       "  </thead>\n",
       "  <tbody>\n",
       "    <tr>\n",
       "      <th>0</th>\n",
       "      <td>Alam Ara</td>\n",
       "    </tr>\n",
       "  </tbody>\n",
       "</table>\n",
       "</div>"
      ],
      "text/plain": [
       "      title\n",
       "0  Alam Ara"
      ]
     },
     "execution_count": 172,
     "metadata": {},
     "output_type": "execute_result"
    }
   ],
   "source": [
    "q3 = \"\"\"SELECT title\n",
    "FROM Movie\n",
    "ORDER BY year ASC\n",
    "LIMIT 1\n",
    ";\"\"\"\n",
    "result = pd.read_sql_query(q3, conn)\n",
    "result"
   ]
  },
  {
   "cell_type": "code",
   "execution_count": 173,
   "metadata": {
    "colab": {
     "base_uri": "https://localhost:8080/"
    },
    "id": "jpGuMnkveeU5",
    "outputId": "c3cdb6ab-945c-4d53-be90-3b353d536dc9"
   },
   "outputs": [
    {
     "name": "stdout",
     "output_type": "stream",
     "text": [
      "0    True\n",
      "Name: title, dtype: bool\n"
     ]
    }
   ],
   "source": [
    "def q3_grader(q3):\n",
    "  result = pd.read_sql_query(q3, conn)\n",
    "  return result['title']=='Alam Ara'\n",
    "print(q3_grader(q3))"
   ]
  },
  {
   "cell_type": "markdown",
   "metadata": {
    "id": "ZQVPvM8qgl3k"
   },
   "source": [
    "## 4. Write query to get the very first year in which Devdas movie was released"
   ]
  },
  {
   "cell_type": "code",
   "execution_count": 174,
   "metadata": {
    "id": "DbvKV1XXgmd9"
   },
   "outputs": [
    {
     "data": {
      "text/html": [
       "<div>\n",
       "<style scoped>\n",
       "    .dataframe tbody tr th:only-of-type {\n",
       "        vertical-align: middle;\n",
       "    }\n",
       "\n",
       "    .dataframe tbody tr th {\n",
       "        vertical-align: top;\n",
       "    }\n",
       "\n",
       "    .dataframe thead th {\n",
       "        text-align: right;\n",
       "    }\n",
       "</style>\n",
       "<table border=\"1\" class=\"dataframe\">\n",
       "  <thead>\n",
       "    <tr style=\"text-align: right;\">\n",
       "      <th></th>\n",
       "      <th>year</th>\n",
       "    </tr>\n",
       "  </thead>\n",
       "  <tbody>\n",
       "    <tr>\n",
       "      <th>0</th>\n",
       "      <td>1936</td>\n",
       "    </tr>\n",
       "  </tbody>\n",
       "</table>\n",
       "</div>"
      ],
      "text/plain": [
       "   year\n",
       "0  1936"
      ]
     },
     "execution_count": 174,
     "metadata": {},
     "output_type": "execute_result"
    }
   ],
   "source": [
    "q4 = \"\"\"select year from Movie where title='Devdas' order by year asc limit 1;\"\"\"\n",
    "result=pd.read_sql_query(q4,conn)\n",
    "result"
   ]
  },
  {
   "cell_type": "code",
   "execution_count": 175,
   "metadata": {
    "colab": {
     "base_uri": "https://localhost:8080/"
    },
    "id": "SJWlc4gCg6Gn",
    "outputId": "5e59c08b-09cf-405e-cd84-76e2c9f606d7"
   },
   "outputs": [
    {
     "name": "stdout",
     "output_type": "stream",
     "text": [
      "0    True\n",
      "Name: year, dtype: bool\n"
     ]
    }
   ],
   "source": [
    "def q4_grader(q4):\n",
    "  result = pd.read_sql_query(q4, conn)\n",
    "  return result['year']=='1936'\n",
    "print(q4_grader(q4))"
   ]
  },
  {
   "cell_type": "markdown",
   "metadata": {
    "id": "sLHeXz_siuSW"
   },
   "source": [
    "## 5. Write query to get the number of movies released in 2018"
   ]
  },
  {
   "cell_type": "code",
   "execution_count": 176,
   "metadata": {
    "id": "fErMDcrFiuzw"
   },
   "outputs": [
    {
     "data": {
      "text/html": [
       "<div>\n",
       "<style scoped>\n",
       "    .dataframe tbody tr th:only-of-type {\n",
       "        vertical-align: middle;\n",
       "    }\n",
       "\n",
       "    .dataframe tbody tr th {\n",
       "        vertical-align: top;\n",
       "    }\n",
       "\n",
       "    .dataframe thead th {\n",
       "        text-align: right;\n",
       "    }\n",
       "</style>\n",
       "<table border=\"1\" class=\"dataframe\">\n",
       "  <thead>\n",
       "    <tr style=\"text-align: right;\">\n",
       "      <th></th>\n",
       "      <th>no_of_movies</th>\n",
       "    </tr>\n",
       "  </thead>\n",
       "  <tbody>\n",
       "    <tr>\n",
       "      <th>0</th>\n",
       "      <td>93</td>\n",
       "    </tr>\n",
       "  </tbody>\n",
       "</table>\n",
       "</div>"
      ],
      "text/plain": [
       "   no_of_movies\n",
       "0            93"
      ]
     },
     "execution_count": 176,
     "metadata": {},
     "output_type": "execute_result"
    }
   ],
   "source": [
    "q5 = \"\"\"select count(title) as no_of_movies from Movie where year=2018\"\"\"\n",
    "result = pd.read_sql_query(q5, conn)\n",
    "result"
   ]
  },
  {
   "cell_type": "code",
   "execution_count": 177,
   "metadata": {
    "colab": {
     "base_uri": "https://localhost:8080/"
    },
    "id": "mV2gadLKi6ow",
    "outputId": "1980a205-2bbd-492f-ea81-cdca16afcfc2"
   },
   "outputs": [
    {
     "name": "stdout",
     "output_type": "stream",
     "text": [
      "True\n"
     ]
    }
   ],
   "source": [
    "def q5_grader(q5):\n",
    "  result = pd.read_sql_query(q5, conn)\n",
    "  return result.iloc[0, 0] == 93\n",
    "print(q5_grader(q5))"
   ]
  },
  {
   "cell_type": "markdown",
   "metadata": {
    "id": "95Y3MGgsndph"
   },
   "source": [
    "## 6. Write query to get the title of the movie with most number of votes in 2012"
   ]
  },
  {
   "cell_type": "code",
   "execution_count": 178,
   "metadata": {
    "id": "SK-BCCy2j2tz"
   },
   "outputs": [
    {
     "data": {
      "text/html": [
       "<div>\n",
       "<style scoped>\n",
       "    .dataframe tbody tr th:only-of-type {\n",
       "        vertical-align: middle;\n",
       "    }\n",
       "\n",
       "    .dataframe tbody tr th {\n",
       "        vertical-align: top;\n",
       "    }\n",
       "\n",
       "    .dataframe thead th {\n",
       "        text-align: right;\n",
       "    }\n",
       "</style>\n",
       "<table border=\"1\" class=\"dataframe\">\n",
       "  <thead>\n",
       "    <tr style=\"text-align: right;\">\n",
       "      <th></th>\n",
       "      <th>title</th>\n",
       "      <th>max(num_votes)</th>\n",
       "    </tr>\n",
       "  </thead>\n",
       "  <tbody>\n",
       "    <tr>\n",
       "      <th>0</th>\n",
       "      <td>The Avengers</td>\n",
       "      <td>1137529</td>\n",
       "    </tr>\n",
       "  </tbody>\n",
       "</table>\n",
       "</div>"
      ],
      "text/plain": [
       "          title  max(num_votes)\n",
       "0  The Avengers         1137529"
      ]
     },
     "execution_count": 178,
     "metadata": {},
     "output_type": "execute_result"
    }
   ],
   "source": [
    "q6 = \"\"\"select title , max(num_votes) from movie where  year=2012;\"\"\"\n",
    "result = pd.read_sql_query(q6, conn)\n",
    "result"
   ]
  },
  {
   "cell_type": "code",
   "execution_count": 179,
   "metadata": {
    "colab": {
     "base_uri": "https://localhost:8080/"
    },
    "id": "1s8NPuftj6kO",
    "outputId": "c11fd94d-a38d-4a22-879f-a8caee834709"
   },
   "outputs": [
    {
     "name": "stdout",
     "output_type": "stream",
     "text": [
      "0    True\n",
      "Name: title, dtype: bool\n"
     ]
    }
   ],
   "source": [
    "def q6_grader(q6):\n",
    "  result = pd.read_sql_query(q6, conn)\n",
    "  return result[\"title\"]==\"The Avengers\"\n",
    "print(q6_grader(q6))"
   ]
  },
  {
   "cell_type": "markdown",
   "metadata": {
    "id": "anmreTN2zRzL"
   },
   "source": [
    "## 7. Write SQL query to find all the unique movie titles released in 2018"
   ]
  },
  {
   "cell_type": "code",
   "execution_count": 180,
   "metadata": {
    "id": "T3gG0QsPzSQz"
   },
   "outputs": [
    {
     "data": {
      "text/html": [
       "<div>\n",
       "<style scoped>\n",
       "    .dataframe tbody tr th:only-of-type {\n",
       "        vertical-align: middle;\n",
       "    }\n",
       "\n",
       "    .dataframe tbody tr th {\n",
       "        vertical-align: top;\n",
       "    }\n",
       "\n",
       "    .dataframe thead th {\n",
       "        text-align: right;\n",
       "    }\n",
       "</style>\n",
       "<table border=\"1\" class=\"dataframe\">\n",
       "  <thead>\n",
       "    <tr style=\"text-align: right;\">\n",
       "      <th></th>\n",
       "      <th>title</th>\n",
       "    </tr>\n",
       "  </thead>\n",
       "  <tbody>\n",
       "    <tr>\n",
       "      <th>0</th>\n",
       "      <td>Mowgli</td>\n",
       "    </tr>\n",
       "    <tr>\n",
       "      <th>1</th>\n",
       "      <td>Ocean's Eight</td>\n",
       "    </tr>\n",
       "    <tr>\n",
       "      <th>2</th>\n",
       "      <td>Tomb Raider</td>\n",
       "    </tr>\n",
       "    <tr>\n",
       "      <th>3</th>\n",
       "      <td>Tumbbad</td>\n",
       "    </tr>\n",
       "    <tr>\n",
       "      <th>4</th>\n",
       "      <td>Kedarnath</td>\n",
       "    </tr>\n",
       "    <tr>\n",
       "      <th>...</th>\n",
       "      <td>...</td>\n",
       "    </tr>\n",
       "    <tr>\n",
       "      <th>88</th>\n",
       "      <td>Leera the Soulmate</td>\n",
       "    </tr>\n",
       "    <tr>\n",
       "      <th>89</th>\n",
       "      <td>Shaadi Teri Bajayenge Hum Band</td>\n",
       "    </tr>\n",
       "    <tr>\n",
       "      <th>90</th>\n",
       "      <td>Aadamkhor</td>\n",
       "    </tr>\n",
       "    <tr>\n",
       "      <th>91</th>\n",
       "      <td>Vaibhav Sethia: Don't</td>\n",
       "    </tr>\n",
       "    <tr>\n",
       "      <th>92</th>\n",
       "      <td>Shohrat the Trap</td>\n",
       "    </tr>\n",
       "  </tbody>\n",
       "</table>\n",
       "<p>93 rows × 1 columns</p>\n",
       "</div>"
      ],
      "text/plain": [
       "                             title\n",
       "0                           Mowgli\n",
       "1                    Ocean's Eight\n",
       "2                      Tomb Raider\n",
       "3                          Tumbbad\n",
       "4                        Kedarnath\n",
       "..                             ...\n",
       "88              Leera the Soulmate\n",
       "89  Shaadi Teri Bajayenge Hum Band\n",
       "90                       Aadamkhor\n",
       "91           Vaibhav Sethia: Don't\n",
       "92                Shohrat the Trap\n",
       "\n",
       "[93 rows x 1 columns]"
      ]
     },
     "execution_count": 180,
     "metadata": {},
     "output_type": "execute_result"
    }
   ],
   "source": [
    "q7 = \"\"\"select distinct title from movie where year=2018 ;\"\"\"\n",
    "result = pd.read_sql_query(q7, conn)\n",
    "result"
   ]
  },
  {
   "cell_type": "code",
   "execution_count": 181,
   "metadata": {
    "colab": {
     "base_uri": "https://localhost:8080/"
    },
    "id": "ndp9snvBz0U5",
    "outputId": "1a202f78-4ec3-48ac-d81f-427d0d2527ee"
   },
   "outputs": [
    {
     "name": "stdout",
     "output_type": "stream",
     "text": [
      "True\n"
     ]
    }
   ],
   "source": [
    "def q7_grader(q7):\n",
    "  result = pd.read_sql_query(q7, conn)\n",
    "  return result.shape==(93, 1)\n",
    "print(q7_grader(q7))"
   ]
  },
  {
   "cell_type": "markdown",
   "metadata": {
    "id": "TZEjK38M1Q8q"
   },
   "source": [
    "## 8. Write SQL query to get total number of movies released between 2017 (inclusive) and 2018 (inclusive)"
   ]
  },
  {
   "cell_type": "code",
   "execution_count": 182,
   "metadata": {
    "id": "vXz5lPZ80j3-"
   },
   "outputs": [
    {
     "data": {
      "text/html": [
       "<div>\n",
       "<style scoped>\n",
       "    .dataframe tbody tr th:only-of-type {\n",
       "        vertical-align: middle;\n",
       "    }\n",
       "\n",
       "    .dataframe tbody tr th {\n",
       "        vertical-align: top;\n",
       "    }\n",
       "\n",
       "    .dataframe thead th {\n",
       "        text-align: right;\n",
       "    }\n",
       "</style>\n",
       "<table border=\"1\" class=\"dataframe\">\n",
       "  <thead>\n",
       "    <tr style=\"text-align: right;\">\n",
       "      <th></th>\n",
       "      <th>count(title)</th>\n",
       "    </tr>\n",
       "  </thead>\n",
       "  <tbody>\n",
       "    <tr>\n",
       "      <th>0</th>\n",
       "      <td>118</td>\n",
       "    </tr>\n",
       "  </tbody>\n",
       "</table>\n",
       "</div>"
      ],
      "text/plain": [
       "   count(title)\n",
       "0           118"
      ]
     },
     "execution_count": 182,
     "metadata": {},
     "output_type": "execute_result"
    }
   ],
   "source": [
    "q8 = \"\"\"select count(title)  from movie where year=2017 and 2018 ;\"\"\"\n",
    "result = pd.read_sql_query(q8, conn)\n",
    "result"
   ]
  },
  {
   "cell_type": "code",
   "execution_count": 183,
   "metadata": {
    "colab": {
     "base_uri": "https://localhost:8080/"
    },
    "id": "p9wXgEae02ZV",
    "outputId": "97f742e2-4dcf-42d6-b799-39f4bdb4890f"
   },
   "outputs": [
    {
     "name": "stdout",
     "output_type": "stream",
     "text": [
      "False\n"
     ]
    }
   ],
   "source": [
    "def q8_grader(q8):\n",
    "  result = pd.read_sql_query(q8, conn)\n",
    "  return result.iloc[0, 0] == 211\n",
    "print(q8_grader(q8))"
   ]
  },
  {
   "cell_type": "markdown",
   "metadata": {
    "id": "L7WKxoUU3Ai6"
   },
   "source": [
    "## 9. Write SQL query to find the year in which maximum number of movies released"
   ]
  },
  {
   "cell_type": "code",
   "execution_count": 184,
   "metadata": {
    "id": "fktY0SbY1qSA"
   },
   "outputs": [
    {
     "data": {
      "text/html": [
       "<div>\n",
       "<style scoped>\n",
       "    .dataframe tbody tr th:only-of-type {\n",
       "        vertical-align: middle;\n",
       "    }\n",
       "\n",
       "    .dataframe tbody tr th {\n",
       "        vertical-align: top;\n",
       "    }\n",
       "\n",
       "    .dataframe thead th {\n",
       "        text-align: right;\n",
       "    }\n",
       "</style>\n",
       "<table border=\"1\" class=\"dataframe\">\n",
       "  <thead>\n",
       "    <tr style=\"text-align: right;\">\n",
       "      <th></th>\n",
       "      <th>year</th>\n",
       "      <th>movie_count</th>\n",
       "    </tr>\n",
       "  </thead>\n",
       "  <tbody>\n",
       "    <tr>\n",
       "      <th>0</th>\n",
       "      <td>2005</td>\n",
       "      <td>128</td>\n",
       "    </tr>\n",
       "  </tbody>\n",
       "</table>\n",
       "</div>"
      ],
      "text/plain": [
       "   year  movie_count\n",
       "0  2005          128"
      ]
     },
     "execution_count": 184,
     "metadata": {},
     "output_type": "execute_result"
    }
   ],
   "source": [
    "q9 = \"\"\"SELECT year, COUNT(*) AS movie_count\n",
    "FROM movie\n",
    "GROUP BY year\n",
    "ORDER BY movie_count DESC\n",
    "LIMIT 1\n",
    ";\"\"\"\n",
    "result = pd.read_sql_query(q9, conn)\n",
    "result"
   ]
  },
  {
   "cell_type": "code",
   "execution_count": 185,
   "metadata": {
    "colab": {
     "base_uri": "https://localhost:8080/"
    },
    "id": "yiYfQr1R13As",
    "outputId": "85900d61-2666-482a-df77-b2807c45eb58"
   },
   "outputs": [
    {
     "name": "stdout",
     "output_type": "stream",
     "text": [
      "True\n"
     ]
    }
   ],
   "source": [
    "def q9_grader(q9):\n",
    "  result = pd.read_sql_query(q9, conn)\n",
    "  return result[\"year\"][0]==\"2005\"\n",
    "print(q9_grader(q9))"
   ]
  },
  {
   "cell_type": "markdown",
   "metadata": {
    "id": "dP2eLdzq7lBM"
   },
   "source": [
    "## 10. Write SQL query to find the title of the movie with rating>9.5 and number of votes > 90"
   ]
  },
  {
   "cell_type": "code",
   "execution_count": 186,
   "metadata": {
    "id": "DUCNjcQM3VG-"
   },
   "outputs": [
    {
     "data": {
      "text/html": [
       "<div>\n",
       "<style scoped>\n",
       "    .dataframe tbody tr th:only-of-type {\n",
       "        vertical-align: middle;\n",
       "    }\n",
       "\n",
       "    .dataframe tbody tr th {\n",
       "        vertical-align: top;\n",
       "    }\n",
       "\n",
       "    .dataframe thead th {\n",
       "        text-align: right;\n",
       "    }\n",
       "</style>\n",
       "<table border=\"1\" class=\"dataframe\">\n",
       "  <thead>\n",
       "    <tr style=\"text-align: right;\">\n",
       "      <th></th>\n",
       "      <th>title</th>\n",
       "    </tr>\n",
       "  </thead>\n",
       "  <tbody>\n",
       "    <tr>\n",
       "      <th>0</th>\n",
       "      <td>Man on Mission Fauladi</td>\n",
       "    </tr>\n",
       "  </tbody>\n",
       "</table>\n",
       "</div>"
      ],
      "text/plain": [
       "                    title\n",
       "0  Man on Mission Fauladi"
      ]
     },
     "execution_count": 186,
     "metadata": {},
     "output_type": "execute_result"
    }
   ],
   "source": [
    "q10 = \"\"\"select title from movie where rating>9.5 and num_votes>90;\"\"\"\n",
    "result = pd.read_sql_query(q10, conn)\n",
    "result"
   ]
  },
  {
   "cell_type": "code",
   "execution_count": 187,
   "metadata": {
    "colab": {
     "base_uri": "https://localhost:8080/"
    },
    "id": "njqsiZo-3e6o",
    "outputId": "db8d034e-1fdf-42af-cef9-917b22995502"
   },
   "outputs": [
    {
     "name": "stdout",
     "output_type": "stream",
     "text": [
      "True\n"
     ]
    }
   ],
   "source": [
    "def q10_grader(q10):\n",
    "  result = pd.read_sql_query(q10, conn)\n",
    "  return result[\"title\"][0]==\"Man on Mission Fauladi\"\n",
    "print(q10_grader(q10))"
   ]
  },
  {
   "cell_type": "markdown",
   "metadata": {
    "id": "7Ov94gw_949N"
   },
   "source": [
    "## 11. Write SQL query to find the number of movies which has the word 'Dilwale' in their title"
   ]
  },
  {
   "cell_type": "code",
   "execution_count": 188,
   "metadata": {
    "id": "9T5y3B1z8H4v"
   },
   "outputs": [
    {
     "data": {
      "text/html": [
       "<div>\n",
       "<style scoped>\n",
       "    .dataframe tbody tr th:only-of-type {\n",
       "        vertical-align: middle;\n",
       "    }\n",
       "\n",
       "    .dataframe tbody tr th {\n",
       "        vertical-align: top;\n",
       "    }\n",
       "\n",
       "    .dataframe thead th {\n",
       "        text-align: right;\n",
       "    }\n",
       "</style>\n",
       "<table border=\"1\" class=\"dataframe\">\n",
       "  <thead>\n",
       "    <tr style=\"text-align: right;\">\n",
       "      <th></th>\n",
       "      <th>num_of_movies</th>\n",
       "    </tr>\n",
       "  </thead>\n",
       "  <tbody>\n",
       "    <tr>\n",
       "      <th>0</th>\n",
       "      <td>2</td>\n",
       "    </tr>\n",
       "  </tbody>\n",
       "</table>\n",
       "</div>"
      ],
      "text/plain": [
       "   num_of_movies\n",
       "0              2"
      ]
     },
     "execution_count": 188,
     "metadata": {},
     "output_type": "execute_result"
    }
   ],
   "source": [
    "q11 = \"\"\"select  count(title)as num_of_movies from movie \n",
    "where title like'%Dilwale' \n",
    "and title like 'Dilwale%' \n",
    "and title like'%Dilwale%';\"\"\"\n",
    "result = pd.read_sql_query(q11, conn)\n",
    "result"
   ]
  },
  {
   "cell_type": "code",
   "execution_count": 189,
   "metadata": {
    "colab": {
     "base_uri": "https://localhost:8080/"
    },
    "id": "gvtXmjaz8lfg",
    "outputId": "77fa6a10-db36-4dd7-e405-57fee7b368de"
   },
   "outputs": [
    {
     "name": "stdout",
     "output_type": "stream",
     "text": [
      "False\n"
     ]
    }
   ],
   "source": [
    "def q11_grader(q11):\n",
    "  result = pd.read_sql_query(q11, conn)\n",
    "  return result.iloc[0, 0] == 4\n",
    "print(q11_grader(q11))"
   ]
  },
  {
   "cell_type": "markdown",
   "metadata": {
    "id": "5PaMaYb6AwgQ"
   },
   "source": [
    "## 12. Write nested SQL query to find the CID of country which produced most number of movies"
   ]
  },
  {
   "cell_type": "code",
   "execution_count": 190,
   "metadata": {
    "id": "Ey1GZDoG-t2n"
   },
   "outputs": [
    {
     "data": {
      "text/html": [
       "<div>\n",
       "<style scoped>\n",
       "    .dataframe tbody tr th:only-of-type {\n",
       "        vertical-align: middle;\n",
       "    }\n",
       "\n",
       "    .dataframe tbody tr th {\n",
       "        vertical-align: top;\n",
       "    }\n",
       "\n",
       "    .dataframe thead th {\n",
       "        text-align: right;\n",
       "    }\n",
       "</style>\n",
       "<table border=\"1\" class=\"dataframe\">\n",
       "  <thead>\n",
       "    <tr style=\"text-align: right;\">\n",
       "      <th></th>\n",
       "      <th>CID</th>\n",
       "    </tr>\n",
       "  </thead>\n",
       "  <tbody>\n",
       "    <tr>\n",
       "      <th>0</th>\n",
       "      <td>2.0</td>\n",
       "    </tr>\n",
       "  </tbody>\n",
       "</table>\n",
       "</div>"
      ],
      "text/plain": [
       "   CID\n",
       "0  2.0"
      ]
     },
     "execution_count": 190,
     "metadata": {},
     "output_type": "execute_result"
    }
   ],
   "source": [
    "q12=\"\"\"SELECT CID\n",
    "FROM (\n",
    "    SELECT CID, COUNT(*) AS movie_count\n",
    "    FROM M_Country\n",
    "    GROUP BY CID\n",
    "    ORDER BY movie_count DESC\n",
    "    LIMIT 1\n",
    ") AS subquery;\n",
    "\"\"\"\n",
    "result = pd.read_sql_query(q12, conn)\n",
    "result"
   ]
  },
  {
   "cell_type": "code",
   "execution_count": 191,
   "metadata": {
    "colab": {
     "base_uri": "https://localhost:8080/"
    },
    "id": "5gHU4XQO-0E-",
    "outputId": "8d929b47-bdd5-4c1d-98bd-7665060822e8"
   },
   "outputs": [
    {
     "name": "stdout",
     "output_type": "stream",
     "text": [
      "CID    True\n",
      "Name: 0, dtype: bool\n"
     ]
    }
   ],
   "source": [
    "def q12_grader(q12):\n",
    "  result = pd.read_sql_query(q12, conn)\n",
    "  return result.iloc[0]==2.0\n",
    "print(q12_grader(q12))"
   ]
  },
  {
   "cell_type": "markdown",
   "metadata": {
    "id": "F0E3Nw4nD7ux"
   },
   "source": [
    "## 13. Write nested SQL query to the country which produced most number of movies (use both Courty table and M_Country table)"
   ]
  },
  {
   "cell_type": "code",
   "execution_count": 192,
   "metadata": {
    "id": "kJaN-L9aBY4Q"
   },
   "outputs": [
    {
     "data": {
      "text/html": [
       "<div>\n",
       "<style scoped>\n",
       "    .dataframe tbody tr th:only-of-type {\n",
       "        vertical-align: middle;\n",
       "    }\n",
       "\n",
       "    .dataframe tbody tr th {\n",
       "        vertical-align: top;\n",
       "    }\n",
       "\n",
       "    .dataframe thead th {\n",
       "        text-align: right;\n",
       "    }\n",
       "</style>\n",
       "<table border=\"1\" class=\"dataframe\">\n",
       "  <thead>\n",
       "    <tr style=\"text-align: right;\">\n",
       "      <th></th>\n",
       "      <th>Name</th>\n",
       "    </tr>\n",
       "  </thead>\n",
       "  <tbody>\n",
       "    <tr>\n",
       "      <th>0</th>\n",
       "      <td>India</td>\n",
       "    </tr>\n",
       "  </tbody>\n",
       "</table>\n",
       "</div>"
      ],
      "text/plain": [
       "    Name\n",
       "0  India"
      ]
     },
     "execution_count": 192,
     "metadata": {},
     "output_type": "execute_result"
    }
   ],
   "source": [
    "q13 = \"\"\"SELECT Country.Name\n",
    "FROM Country\n",
    "WHERE Country.CID = (\n",
    "    SELECT CID\n",
    "    FROM (\n",
    "        SELECT CID, COUNT(*) AS movie_count\n",
    "        FROM M_Country\n",
    "        GROUP BY CID\n",
    "        ORDER BY movie_count DESC\n",
    "        LIMIT 1\n",
    "    ) AS subquery\n",
    ");\n",
    "\"\"\"\n",
    "result = pd.read_sql_query(q13, conn)\n",
    "result"
   ]
  },
  {
   "cell_type": "code",
   "execution_count": 193,
   "metadata": {
    "colab": {
     "base_uri": "https://localhost:8080/"
    },
    "id": "L8JOMcpjBqZo",
    "outputId": "e939cfbb-9357-4d81-8b3a-bf09e3d91d09"
   },
   "outputs": [
    {
     "name": "stdout",
     "output_type": "stream",
     "text": [
      "True\n"
     ]
    }
   ],
   "source": [
    "def q13_grader(q13):\n",
    "  result = pd.read_sql_query(q13, conn)\n",
    "  return result.iloc[0, 0] == \"India\"\n",
    "print(q13_grader(q13))"
   ]
  },
  {
   "cell_type": "markdown",
   "metadata": {
    "id": "OHcgp0uCF003"
   },
   "source": [
    "## 14. Write SQL query to get the year and number of movies per year having number of movies per year is greater than 100"
   ]
  },
  {
   "cell_type": "code",
   "execution_count": 194,
   "metadata": {
    "id": "AmIL0LgMENl_"
   },
   "outputs": [
    {
     "data": {
      "text/html": [
       "<div>\n",
       "<style scoped>\n",
       "    .dataframe tbody tr th:only-of-type {\n",
       "        vertical-align: middle;\n",
       "    }\n",
       "\n",
       "    .dataframe tbody tr th {\n",
       "        vertical-align: top;\n",
       "    }\n",
       "\n",
       "    .dataframe thead th {\n",
       "        text-align: right;\n",
       "    }\n",
       "</style>\n",
       "<table border=\"1\" class=\"dataframe\">\n",
       "  <thead>\n",
       "    <tr style=\"text-align: right;\">\n",
       "      <th></th>\n",
       "      <th>year</th>\n",
       "      <th>count(*)</th>\n",
       "    </tr>\n",
       "  </thead>\n",
       "  <tbody>\n",
       "    <tr>\n",
       "      <th>0</th>\n",
       "      <td>2003</td>\n",
       "      <td>101</td>\n",
       "    </tr>\n",
       "    <tr>\n",
       "      <th>1</th>\n",
       "      <td>2004</td>\n",
       "      <td>103</td>\n",
       "    </tr>\n",
       "    <tr>\n",
       "      <th>2</th>\n",
       "      <td>2005</td>\n",
       "      <td>128</td>\n",
       "    </tr>\n",
       "    <tr>\n",
       "      <th>3</th>\n",
       "      <td>2007</td>\n",
       "      <td>104</td>\n",
       "    </tr>\n",
       "    <tr>\n",
       "      <th>4</th>\n",
       "      <td>2008</td>\n",
       "      <td>103</td>\n",
       "    </tr>\n",
       "    <tr>\n",
       "      <th>5</th>\n",
       "      <td>2010</td>\n",
       "      <td>117</td>\n",
       "    </tr>\n",
       "    <tr>\n",
       "      <th>6</th>\n",
       "      <td>2011</td>\n",
       "      <td>109</td>\n",
       "    </tr>\n",
       "    <tr>\n",
       "      <th>7</th>\n",
       "      <td>2012</td>\n",
       "      <td>108</td>\n",
       "    </tr>\n",
       "    <tr>\n",
       "      <th>8</th>\n",
       "      <td>2013</td>\n",
       "      <td>127</td>\n",
       "    </tr>\n",
       "    <tr>\n",
       "      <th>9</th>\n",
       "      <td>2014</td>\n",
       "      <td>118</td>\n",
       "    </tr>\n",
       "    <tr>\n",
       "      <th>10</th>\n",
       "      <td>2015</td>\n",
       "      <td>109</td>\n",
       "    </tr>\n",
       "    <tr>\n",
       "      <th>11</th>\n",
       "      <td>2016</td>\n",
       "      <td>118</td>\n",
       "    </tr>\n",
       "    <tr>\n",
       "      <th>12</th>\n",
       "      <td>2017</td>\n",
       "      <td>118</td>\n",
       "    </tr>\n",
       "  </tbody>\n",
       "</table>\n",
       "</div>"
      ],
      "text/plain": [
       "    year  count(*)\n",
       "0   2003       101\n",
       "1   2004       103\n",
       "2   2005       128\n",
       "3   2007       104\n",
       "4   2008       103\n",
       "5   2010       117\n",
       "6   2011       109\n",
       "7   2012       108\n",
       "8   2013       127\n",
       "9   2014       118\n",
       "10  2015       109\n",
       "11  2016       118\n",
       "12  2017       118"
      ]
     },
     "execution_count": 194,
     "metadata": {},
     "output_type": "execute_result"
    }
   ],
   "source": [
    "q14 = \"\"\"SELECT year, count(*) from movie \n",
    "group by year\n",
    "having count(*)>100\n",
    "order by year;\"\"\"\n",
    "result = pd.read_sql_query(q14, conn)\n",
    "result"
   ]
  },
  {
   "cell_type": "code",
   "execution_count": 195,
   "metadata": {
    "colab": {
     "base_uri": "https://localhost:8080/"
    },
    "id": "RWWaEwJtE6Uj",
    "outputId": "0ce7ac38-5728-42a7-dea2-9a756d205814"
   },
   "outputs": [
    {
     "name": "stdout",
     "output_type": "stream",
     "text": [
      "True\n"
     ]
    }
   ],
   "source": [
    "def q14_grader(q14):\n",
    "  result = pd.read_sql_query(q14, conn)\n",
    "  return result.shape==(13,2)\n",
    "print(q14_grader(q14))"
   ]
  },
  {
   "cell_type": "markdown",
   "metadata": {
    "id": "LcrzqodqG-Ae"
   },
   "source": [
    "## 15. Write SQL query to get the Name and Language ID (LAID) corresponding to Malayalam language"
   ]
  },
  {
   "cell_type": "code",
   "execution_count": 196,
   "metadata": {
    "id": "mZ7EH8emGXJg"
   },
   "outputs": [
    {
     "data": {
      "text/html": [
       "<div>\n",
       "<style scoped>\n",
       "    .dataframe tbody tr th:only-of-type {\n",
       "        vertical-align: middle;\n",
       "    }\n",
       "\n",
       "    .dataframe tbody tr th {\n",
       "        vertical-align: top;\n",
       "    }\n",
       "\n",
       "    .dataframe thead th {\n",
       "        text-align: right;\n",
       "    }\n",
       "</style>\n",
       "<table border=\"1\" class=\"dataframe\">\n",
       "  <thead>\n",
       "    <tr style=\"text-align: right;\">\n",
       "      <th></th>\n",
       "      <th>index</th>\n",
       "      <th>Name</th>\n",
       "      <th>LAID</th>\n",
       "    </tr>\n",
       "  </thead>\n",
       "  <tbody>\n",
       "    <tr>\n",
       "      <th>0</th>\n",
       "      <td>19</td>\n",
       "      <td>Malayalam</td>\n",
       "      <td>19</td>\n",
       "    </tr>\n",
       "  </tbody>\n",
       "</table>\n",
       "</div>"
      ],
      "text/plain": [
       "   index       Name  LAID\n",
       "0     19  Malayalam    19"
      ]
     },
     "execution_count": 196,
     "metadata": {},
     "output_type": "execute_result"
    }
   ],
   "source": [
    "q15 = \"\"\"select * from Language where Name='Malayalam';\"\"\"\n",
    "result = pd.read_sql_query(q15, conn)\n",
    "result"
   ]
  },
  {
   "cell_type": "code",
   "execution_count": 197,
   "metadata": {
    "colab": {
     "base_uri": "https://localhost:8080/"
    },
    "id": "rVRZJXwoGcdX",
    "outputId": "3767df17-3922-4dc6-f93a-7f81764748d8"
   },
   "outputs": [
    {
     "name": "stdout",
     "output_type": "stream",
     "text": [
      "   index       Name  LAID\n",
      "0     19  Malayalam    19\n",
      "True\n"
     ]
    }
   ],
   "source": [
    "def q15_grader(q15):\n",
    "  result = pd.read_sql_query(q15, conn)\n",
    "  print(result)\n",
    "  return result[[\"Name\", \"LAID\"]].values.tolist() == [['Malayalam', 19]]\n",
    "print(q15_grader(q15))"
   ]
  },
  {
   "cell_type": "markdown",
   "metadata": {
    "id": "DvPnI7MDJVoT"
   },
   "source": [
    "## 16. Write SQL query to do inner join with movie table and M_Language table with MID colums"
   ]
  },
  {
   "cell_type": "code",
   "execution_count": 198,
   "metadata": {},
   "outputs": [
    {
     "data": {
      "text/html": [
       "<div>\n",
       "<style scoped>\n",
       "    .dataframe tbody tr th:only-of-type {\n",
       "        vertical-align: middle;\n",
       "    }\n",
       "\n",
       "    .dataframe tbody tr th {\n",
       "        vertical-align: top;\n",
       "    }\n",
       "\n",
       "    .dataframe thead th {\n",
       "        text-align: right;\n",
       "    }\n",
       "</style>\n",
       "<table border=\"1\" class=\"dataframe\">\n",
       "  <thead>\n",
       "    <tr style=\"text-align: right;\">\n",
       "      <th></th>\n",
       "      <th>index</th>\n",
       "      <th>MID</th>\n",
       "      <th>title</th>\n",
       "      <th>year</th>\n",
       "      <th>rating</th>\n",
       "      <th>num_votes</th>\n",
       "    </tr>\n",
       "  </thead>\n",
       "  <tbody>\n",
       "    <tr>\n",
       "      <th>0</th>\n",
       "      <td>0</td>\n",
       "      <td>tt2388771</td>\n",
       "      <td>Mowgli</td>\n",
       "      <td>2018</td>\n",
       "      <td>6.6</td>\n",
       "      <td>21967</td>\n",
       "    </tr>\n",
       "    <tr>\n",
       "      <th>1</th>\n",
       "      <td>1</td>\n",
       "      <td>tt5164214</td>\n",
       "      <td>Ocean's Eight</td>\n",
       "      <td>2018</td>\n",
       "      <td>6.2</td>\n",
       "      <td>110861</td>\n",
       "    </tr>\n",
       "    <tr>\n",
       "      <th>2</th>\n",
       "      <td>2</td>\n",
       "      <td>tt1365519</td>\n",
       "      <td>Tomb Raider</td>\n",
       "      <td>2018</td>\n",
       "      <td>6.4</td>\n",
       "      <td>142585</td>\n",
       "    </tr>\n",
       "    <tr>\n",
       "      <th>3</th>\n",
       "      <td>3</td>\n",
       "      <td>tt0848228</td>\n",
       "      <td>The Avengers</td>\n",
       "      <td>2012</td>\n",
       "      <td>8.1</td>\n",
       "      <td>1137529</td>\n",
       "    </tr>\n",
       "    <tr>\n",
       "      <th>4</th>\n",
       "      <td>4</td>\n",
       "      <td>tt8239946</td>\n",
       "      <td>Tumbbad</td>\n",
       "      <td>2018</td>\n",
       "      <td>8.5</td>\n",
       "      <td>7483</td>\n",
       "    </tr>\n",
       "    <tr>\n",
       "      <th>...</th>\n",
       "      <td>...</td>\n",
       "      <td>...</td>\n",
       "      <td>...</td>\n",
       "      <td>...</td>\n",
       "      <td>...</td>\n",
       "      <td>...</td>\n",
       "    </tr>\n",
       "    <tr>\n",
       "      <th>3468</th>\n",
       "      <td>3470</td>\n",
       "      <td>tt0090611</td>\n",
       "      <td>Allah-Rakha</td>\n",
       "      <td>1986</td>\n",
       "      <td>6.2</td>\n",
       "      <td>96</td>\n",
       "    </tr>\n",
       "    <tr>\n",
       "      <th>3469</th>\n",
       "      <td>3471</td>\n",
       "      <td>tt0106270</td>\n",
       "      <td>Anari</td>\n",
       "      <td>1993</td>\n",
       "      <td>4.7</td>\n",
       "      <td>301</td>\n",
       "    </tr>\n",
       "    <tr>\n",
       "      <th>3470</th>\n",
       "      <td>3472</td>\n",
       "      <td>tt0852989</td>\n",
       "      <td>Come December</td>\n",
       "      <td>2006</td>\n",
       "      <td>5.7</td>\n",
       "      <td>57</td>\n",
       "    </tr>\n",
       "    <tr>\n",
       "      <th>3471</th>\n",
       "      <td>3473</td>\n",
       "      <td>tt0375882</td>\n",
       "      <td>Kala Jigar</td>\n",
       "      <td>1939</td>\n",
       "      <td>3.3</td>\n",
       "      <td>174</td>\n",
       "    </tr>\n",
       "    <tr>\n",
       "      <th>3472</th>\n",
       "      <td>3474</td>\n",
       "      <td>tt0375890</td>\n",
       "      <td>Kanoon</td>\n",
       "      <td>1994</td>\n",
       "      <td>3.2</td>\n",
       "      <td>103</td>\n",
       "    </tr>\n",
       "  </tbody>\n",
       "</table>\n",
       "<p>3473 rows × 6 columns</p>\n",
       "</div>"
      ],
      "text/plain": [
       "      index        MID          title  year  rating  num_votes\n",
       "0         0  tt2388771         Mowgli  2018     6.6      21967\n",
       "1         1  tt5164214  Ocean's Eight  2018     6.2     110861\n",
       "2         2  tt1365519    Tomb Raider  2018     6.4     142585\n",
       "3         3  tt0848228   The Avengers  2012     8.1    1137529\n",
       "4         4  tt8239946        Tumbbad  2018     8.5       7483\n",
       "...     ...        ...            ...   ...     ...        ...\n",
       "3468   3470  tt0090611    Allah-Rakha  1986     6.2         96\n",
       "3469   3471  tt0106270          Anari  1993     4.7        301\n",
       "3470   3472  tt0852989  Come December  2006     5.7         57\n",
       "3471   3473  tt0375882     Kala Jigar  1939     3.3        174\n",
       "3472   3474  tt0375890         Kanoon  1994     3.2        103\n",
       "\n",
       "[3473 rows x 6 columns]"
      ]
     },
     "execution_count": 198,
     "metadata": {},
     "output_type": "execute_result"
    }
   ],
   "source": [
    "q100=\"\"\"Select * from Movie\"\"\"\n",
    "result = pd.read_sql_query(q100, conn)\n",
    "result"
   ]
  },
  {
   "cell_type": "code",
   "execution_count": 199,
   "metadata": {},
   "outputs": [
    {
     "data": {
      "text/html": [
       "<div>\n",
       "<style scoped>\n",
       "    .dataframe tbody tr th:only-of-type {\n",
       "        vertical-align: middle;\n",
       "    }\n",
       "\n",
       "    .dataframe tbody tr th {\n",
       "        vertical-align: top;\n",
       "    }\n",
       "\n",
       "    .dataframe thead th {\n",
       "        text-align: right;\n",
       "    }\n",
       "</style>\n",
       "<table border=\"1\" class=\"dataframe\">\n",
       "  <thead>\n",
       "    <tr style=\"text-align: right;\">\n",
       "      <th></th>\n",
       "      <th>index</th>\n",
       "      <th>MID</th>\n",
       "      <th>LAID</th>\n",
       "      <th>ID</th>\n",
       "    </tr>\n",
       "  </thead>\n",
       "  <tbody>\n",
       "    <tr>\n",
       "      <th>0</th>\n",
       "      <td>0</td>\n",
       "      <td>tt2388771</td>\n",
       "      <td>0</td>\n",
       "      <td>0</td>\n",
       "    </tr>\n",
       "    <tr>\n",
       "      <th>1</th>\n",
       "      <td>1</td>\n",
       "      <td>tt5164214</td>\n",
       "      <td>0</td>\n",
       "      <td>1</td>\n",
       "    </tr>\n",
       "    <tr>\n",
       "      <th>2</th>\n",
       "      <td>2</td>\n",
       "      <td>tt1365519</td>\n",
       "      <td>0</td>\n",
       "      <td>2</td>\n",
       "    </tr>\n",
       "    <tr>\n",
       "      <th>3</th>\n",
       "      <td>3</td>\n",
       "      <td>tt0848228</td>\n",
       "      <td>0</td>\n",
       "      <td>3</td>\n",
       "    </tr>\n",
       "    <tr>\n",
       "      <th>4</th>\n",
       "      <td>4</td>\n",
       "      <td>tt8239946</td>\n",
       "      <td>1</td>\n",
       "      <td>4</td>\n",
       "    </tr>\n",
       "    <tr>\n",
       "      <th>...</th>\n",
       "      <td>...</td>\n",
       "      <td>...</td>\n",
       "      <td>...</td>\n",
       "      <td>...</td>\n",
       "    </tr>\n",
       "    <tr>\n",
       "      <th>3468</th>\n",
       "      <td>3470</td>\n",
       "      <td>tt0090611</td>\n",
       "      <td>2</td>\n",
       "      <td>3470</td>\n",
       "    </tr>\n",
       "    <tr>\n",
       "      <th>3469</th>\n",
       "      <td>3471</td>\n",
       "      <td>tt0106270</td>\n",
       "      <td>2</td>\n",
       "      <td>3471</td>\n",
       "    </tr>\n",
       "    <tr>\n",
       "      <th>3470</th>\n",
       "      <td>3472</td>\n",
       "      <td>tt0852989</td>\n",
       "      <td>2</td>\n",
       "      <td>3472</td>\n",
       "    </tr>\n",
       "    <tr>\n",
       "      <th>3471</th>\n",
       "      <td>3473</td>\n",
       "      <td>tt0375882</td>\n",
       "      <td>2</td>\n",
       "      <td>3473</td>\n",
       "    </tr>\n",
       "    <tr>\n",
       "      <th>3472</th>\n",
       "      <td>3474</td>\n",
       "      <td>tt0375890</td>\n",
       "      <td>2</td>\n",
       "      <td>3474</td>\n",
       "    </tr>\n",
       "  </tbody>\n",
       "</table>\n",
       "<p>3473 rows × 4 columns</p>\n",
       "</div>"
      ],
      "text/plain": [
       "      index        MID  LAID    ID\n",
       "0         0  tt2388771     0     0\n",
       "1         1  tt5164214     0     1\n",
       "2         2  tt1365519     0     2\n",
       "3         3  tt0848228     0     3\n",
       "4         4  tt8239946     1     4\n",
       "...     ...        ...   ...   ...\n",
       "3468   3470  tt0090611     2  3470\n",
       "3469   3471  tt0106270     2  3471\n",
       "3470   3472  tt0852989     2  3472\n",
       "3471   3473  tt0375882     2  3473\n",
       "3472   3474  tt0375890     2  3474\n",
       "\n",
       "[3473 rows x 4 columns]"
      ]
     },
     "execution_count": 199,
     "metadata": {},
     "output_type": "execute_result"
    }
   ],
   "source": [
    "q100=\"\"\"Select * from M_Language\"\"\"\n",
    "result = pd.read_sql_query(q100, conn)\n",
    "result"
   ]
  },
  {
   "cell_type": "code",
   "execution_count": 200,
   "metadata": {
    "id": "ZPO83_w1Hxco"
   },
   "outputs": [
    {
     "data": {
      "text/html": [
       "<div>\n",
       "<style scoped>\n",
       "    .dataframe tbody tr th:only-of-type {\n",
       "        vertical-align: middle;\n",
       "    }\n",
       "\n",
       "    .dataframe tbody tr th {\n",
       "        vertical-align: top;\n",
       "    }\n",
       "\n",
       "    .dataframe thead th {\n",
       "        text-align: right;\n",
       "    }\n",
       "</style>\n",
       "<table border=\"1\" class=\"dataframe\">\n",
       "  <thead>\n",
       "    <tr style=\"text-align: right;\">\n",
       "      <th></th>\n",
       "      <th>index</th>\n",
       "      <th>MID</th>\n",
       "      <th>title</th>\n",
       "      <th>year</th>\n",
       "      <th>rating</th>\n",
       "      <th>num_votes</th>\n",
       "      <th>index</th>\n",
       "      <th>MID</th>\n",
       "      <th>LAID</th>\n",
       "      <th>ID</th>\n",
       "    </tr>\n",
       "  </thead>\n",
       "  <tbody>\n",
       "    <tr>\n",
       "      <th>0</th>\n",
       "      <td>0</td>\n",
       "      <td>tt2388771</td>\n",
       "      <td>Mowgli</td>\n",
       "      <td>2018</td>\n",
       "      <td>6.6</td>\n",
       "      <td>21967</td>\n",
       "      <td>0</td>\n",
       "      <td>tt2388771</td>\n",
       "      <td>0</td>\n",
       "      <td>0</td>\n",
       "    </tr>\n",
       "    <tr>\n",
       "      <th>1</th>\n",
       "      <td>1</td>\n",
       "      <td>tt5164214</td>\n",
       "      <td>Ocean's Eight</td>\n",
       "      <td>2018</td>\n",
       "      <td>6.2</td>\n",
       "      <td>110861</td>\n",
       "      <td>1</td>\n",
       "      <td>tt5164214</td>\n",
       "      <td>0</td>\n",
       "      <td>1</td>\n",
       "    </tr>\n",
       "    <tr>\n",
       "      <th>2</th>\n",
       "      <td>2</td>\n",
       "      <td>tt1365519</td>\n",
       "      <td>Tomb Raider</td>\n",
       "      <td>2018</td>\n",
       "      <td>6.4</td>\n",
       "      <td>142585</td>\n",
       "      <td>2</td>\n",
       "      <td>tt1365519</td>\n",
       "      <td>0</td>\n",
       "      <td>2</td>\n",
       "    </tr>\n",
       "    <tr>\n",
       "      <th>3</th>\n",
       "      <td>3</td>\n",
       "      <td>tt0848228</td>\n",
       "      <td>The Avengers</td>\n",
       "      <td>2012</td>\n",
       "      <td>8.1</td>\n",
       "      <td>1137529</td>\n",
       "      <td>3</td>\n",
       "      <td>tt0848228</td>\n",
       "      <td>0</td>\n",
       "      <td>3</td>\n",
       "    </tr>\n",
       "    <tr>\n",
       "      <th>4</th>\n",
       "      <td>4</td>\n",
       "      <td>tt8239946</td>\n",
       "      <td>Tumbbad</td>\n",
       "      <td>2018</td>\n",
       "      <td>8.5</td>\n",
       "      <td>7483</td>\n",
       "      <td>4</td>\n",
       "      <td>tt8239946</td>\n",
       "      <td>1</td>\n",
       "      <td>4</td>\n",
       "    </tr>\n",
       "    <tr>\n",
       "      <th>...</th>\n",
       "      <td>...</td>\n",
       "      <td>...</td>\n",
       "      <td>...</td>\n",
       "      <td>...</td>\n",
       "      <td>...</td>\n",
       "      <td>...</td>\n",
       "      <td>...</td>\n",
       "      <td>...</td>\n",
       "      <td>...</td>\n",
       "      <td>...</td>\n",
       "    </tr>\n",
       "    <tr>\n",
       "      <th>3468</th>\n",
       "      <td>3470</td>\n",
       "      <td>tt0090611</td>\n",
       "      <td>Allah-Rakha</td>\n",
       "      <td>1986</td>\n",
       "      <td>6.2</td>\n",
       "      <td>96</td>\n",
       "      <td>3470</td>\n",
       "      <td>tt0090611</td>\n",
       "      <td>2</td>\n",
       "      <td>3470</td>\n",
       "    </tr>\n",
       "    <tr>\n",
       "      <th>3469</th>\n",
       "      <td>3471</td>\n",
       "      <td>tt0106270</td>\n",
       "      <td>Anari</td>\n",
       "      <td>1993</td>\n",
       "      <td>4.7</td>\n",
       "      <td>301</td>\n",
       "      <td>3471</td>\n",
       "      <td>tt0106270</td>\n",
       "      <td>2</td>\n",
       "      <td>3471</td>\n",
       "    </tr>\n",
       "    <tr>\n",
       "      <th>3470</th>\n",
       "      <td>3472</td>\n",
       "      <td>tt0852989</td>\n",
       "      <td>Come December</td>\n",
       "      <td>2006</td>\n",
       "      <td>5.7</td>\n",
       "      <td>57</td>\n",
       "      <td>3472</td>\n",
       "      <td>tt0852989</td>\n",
       "      <td>2</td>\n",
       "      <td>3472</td>\n",
       "    </tr>\n",
       "    <tr>\n",
       "      <th>3471</th>\n",
       "      <td>3473</td>\n",
       "      <td>tt0375882</td>\n",
       "      <td>Kala Jigar</td>\n",
       "      <td>1939</td>\n",
       "      <td>3.3</td>\n",
       "      <td>174</td>\n",
       "      <td>3473</td>\n",
       "      <td>tt0375882</td>\n",
       "      <td>2</td>\n",
       "      <td>3473</td>\n",
       "    </tr>\n",
       "    <tr>\n",
       "      <th>3472</th>\n",
       "      <td>3474</td>\n",
       "      <td>tt0375890</td>\n",
       "      <td>Kanoon</td>\n",
       "      <td>1994</td>\n",
       "      <td>3.2</td>\n",
       "      <td>103</td>\n",
       "      <td>3474</td>\n",
       "      <td>tt0375890</td>\n",
       "      <td>2</td>\n",
       "      <td>3474</td>\n",
       "    </tr>\n",
       "  </tbody>\n",
       "</table>\n",
       "<p>3473 rows × 10 columns</p>\n",
       "</div>"
      ],
      "text/plain": [
       "      index        MID          title  year  rating  num_votes  index  \\\n",
       "0         0  tt2388771         Mowgli  2018     6.6      21967      0   \n",
       "1         1  tt5164214  Ocean's Eight  2018     6.2     110861      1   \n",
       "2         2  tt1365519    Tomb Raider  2018     6.4     142585      2   \n",
       "3         3  tt0848228   The Avengers  2012     8.1    1137529      3   \n",
       "4         4  tt8239946        Tumbbad  2018     8.5       7483      4   \n",
       "...     ...        ...            ...   ...     ...        ...    ...   \n",
       "3468   3470  tt0090611    Allah-Rakha  1986     6.2         96   3470   \n",
       "3469   3471  tt0106270          Anari  1993     4.7        301   3471   \n",
       "3470   3472  tt0852989  Come December  2006     5.7         57   3472   \n",
       "3471   3473  tt0375882     Kala Jigar  1939     3.3        174   3473   \n",
       "3472   3474  tt0375890         Kanoon  1994     3.2        103   3474   \n",
       "\n",
       "            MID  LAID    ID  \n",
       "0     tt2388771     0     0  \n",
       "1     tt5164214     0     1  \n",
       "2     tt1365519     0     2  \n",
       "3     tt0848228     0     3  \n",
       "4     tt8239946     1     4  \n",
       "...         ...   ...   ...  \n",
       "3468  tt0090611     2  3470  \n",
       "3469  tt0106270     2  3471  \n",
       "3470  tt0852989     2  3472  \n",
       "3471  tt0375882     2  3473  \n",
       "3472  tt0375890     2  3474  \n",
       "\n",
       "[3473 rows x 10 columns]"
      ]
     },
     "execution_count": 200,
     "metadata": {},
     "output_type": "execute_result"
    }
   ],
   "source": [
    "q16 = \"\"\"select *\n",
    "from Movie\n",
    "inner join M_Language\n",
    "on Movie.MID=M_Language.MID;\n",
    "\n",
    "\"\"\"\n",
    "result = pd.read_sql_query(q16, conn)\n",
    "result\n"
   ]
  },
  {
   "cell_type": "code",
   "execution_count": 201,
   "metadata": {
    "colab": {
     "base_uri": "https://localhost:8080/"
    },
    "id": "S89KrFeQIWuv",
    "outputId": "0d34f226-589e-479a-8fc4-500d4ee43243"
   },
   "outputs": [
    {
     "name": "stdout",
     "output_type": "stream",
     "text": [
      "      index        MID          title  year  rating  num_votes  index  \\\n",
      "0         0  tt2388771         Mowgli  2018     6.6      21967      0   \n",
      "1         1  tt5164214  Ocean's Eight  2018     6.2     110861      1   \n",
      "2         2  tt1365519    Tomb Raider  2018     6.4     142585      2   \n",
      "3         3  tt0848228   The Avengers  2012     8.1    1137529      3   \n",
      "4         4  tt8239946        Tumbbad  2018     8.5       7483      4   \n",
      "...     ...        ...            ...   ...     ...        ...    ...   \n",
      "3468   3470  tt0090611    Allah-Rakha  1986     6.2         96   3470   \n",
      "3469   3471  tt0106270          Anari  1993     4.7        301   3471   \n",
      "3470   3472  tt0852989  Come December  2006     5.7         57   3472   \n",
      "3471   3473  tt0375882     Kala Jigar  1939     3.3        174   3473   \n",
      "3472   3474  tt0375890         Kanoon  1994     3.2        103   3474   \n",
      "\n",
      "            MID  LAID    ID  \n",
      "0     tt2388771     0     0  \n",
      "1     tt5164214     0     1  \n",
      "2     tt1365519     0     2  \n",
      "3     tt0848228     0     3  \n",
      "4     tt8239946     1     4  \n",
      "...         ...   ...   ...  \n",
      "3468  tt0090611     2  3470  \n",
      "3469  tt0106270     2  3471  \n",
      "3470  tt0852989     2  3472  \n",
      "3471  tt0375882     2  3473  \n",
      "3472  tt0375890     2  3474  \n",
      "\n",
      "[3473 rows x 10 columns]\n"
     ]
    }
   ],
   "source": [
    "def q16_grader(q16):\n",
    "  result = pd.read_sql_query(q16, conn)\n",
    "  return result\n",
    "print(q16_grader(q16))"
   ]
  },
  {
   "cell_type": "markdown",
   "metadata": {
    "id": "vhF0SQu5Lthd"
   },
   "source": [
    "## 17. Write SQL query to list title, year and rating of malayalam movies in the database by doing an inner join with movie table and M_Language table with MID column, also assuming language ID of malayalam movies as 19"
   ]
  },
  {
   "cell_type": "code",
   "execution_count": 202,
   "metadata": {
    "id": "yHB7KI-wKw3p"
   },
   "outputs": [
    {
     "data": {
      "text/html": [
       "<div>\n",
       "<style scoped>\n",
       "    .dataframe tbody tr th:only-of-type {\n",
       "        vertical-align: middle;\n",
       "    }\n",
       "\n",
       "    .dataframe tbody tr th {\n",
       "        vertical-align: top;\n",
       "    }\n",
       "\n",
       "    .dataframe thead th {\n",
       "        text-align: right;\n",
       "    }\n",
       "</style>\n",
       "<table border=\"1\" class=\"dataframe\">\n",
       "  <thead>\n",
       "    <tr style=\"text-align: right;\">\n",
       "      <th></th>\n",
       "      <th>title</th>\n",
       "      <th>year</th>\n",
       "      <th>rating</th>\n",
       "    </tr>\n",
       "  </thead>\n",
       "  <tbody>\n",
       "    <tr>\n",
       "      <th>0</th>\n",
       "      <td>Dil Hai Betaab</td>\n",
       "      <td>1993</td>\n",
       "      <td>4.6</td>\n",
       "    </tr>\n",
       "    <tr>\n",
       "      <th>1</th>\n",
       "      <td>Chemmeen</td>\n",
       "      <td>1965</td>\n",
       "      <td>7.8</td>\n",
       "    </tr>\n",
       "    <tr>\n",
       "      <th>2</th>\n",
       "      <td>Aryan</td>\n",
       "      <td>1988</td>\n",
       "      <td>7.2</td>\n",
       "    </tr>\n",
       "    <tr>\n",
       "      <th>3</th>\n",
       "      <td>Kala Pani</td>\n",
       "      <td>1996</td>\n",
       "      <td>8.4</td>\n",
       "    </tr>\n",
       "    <tr>\n",
       "      <th>4</th>\n",
       "      <td>Aadupuliyattam</td>\n",
       "      <td>2016</td>\n",
       "      <td>4.2</td>\n",
       "    </tr>\n",
       "    <tr>\n",
       "      <th>5</th>\n",
       "      <td>New Delhi</td>\n",
       "      <td>1987</td>\n",
       "      <td>7.7</td>\n",
       "    </tr>\n",
       "    <tr>\n",
       "      <th>6</th>\n",
       "      <td>Who</td>\n",
       "      <td>I 2018</td>\n",
       "      <td>7.1</td>\n",
       "    </tr>\n",
       "    <tr>\n",
       "      <th>7</th>\n",
       "      <td>Cover Story</td>\n",
       "      <td>2000</td>\n",
       "      <td>5.8</td>\n",
       "    </tr>\n",
       "    <tr>\n",
       "      <th>8</th>\n",
       "      <td>Vaishali</td>\n",
       "      <td>1988</td>\n",
       "      <td>7.7</td>\n",
       "    </tr>\n",
       "    <tr>\n",
       "      <th>9</th>\n",
       "      <td>Maanthrikam</td>\n",
       "      <td>1995</td>\n",
       "      <td>6.3</td>\n",
       "    </tr>\n",
       "    <tr>\n",
       "      <th>10</th>\n",
       "      <td>Abhimanyu</td>\n",
       "      <td>1991</td>\n",
       "      <td>7.1</td>\n",
       "    </tr>\n",
       "    <tr>\n",
       "      <th>11</th>\n",
       "      <td>Inspector Balram</td>\n",
       "      <td>1991</td>\n",
       "      <td>6.9</td>\n",
       "    </tr>\n",
       "    <tr>\n",
       "      <th>12</th>\n",
       "      <td>Satyameva Jayate</td>\n",
       "      <td>2000</td>\n",
       "      <td>5.3</td>\n",
       "    </tr>\n",
       "    <tr>\n",
       "      <th>13</th>\n",
       "      <td>Veettilekkulla Vazhi</td>\n",
       "      <td>2011</td>\n",
       "      <td>6.8</td>\n",
       "    </tr>\n",
       "    <tr>\n",
       "      <th>14</th>\n",
       "      <td>Alavuddinum Athbutha Vilakkum</td>\n",
       "      <td>1979</td>\n",
       "      <td>6.8</td>\n",
       "    </tr>\n",
       "    <tr>\n",
       "      <th>15</th>\n",
       "      <td>The Train</td>\n",
       "      <td>2011</td>\n",
       "      <td>4.5</td>\n",
       "    </tr>\n",
       "  </tbody>\n",
       "</table>\n",
       "</div>"
      ],
      "text/plain": [
       "                            title    year  rating\n",
       "0                  Dil Hai Betaab    1993     4.6\n",
       "1                        Chemmeen    1965     7.8\n",
       "2                           Aryan    1988     7.2\n",
       "3                       Kala Pani    1996     8.4\n",
       "4                  Aadupuliyattam    2016     4.2\n",
       "5                       New Delhi    1987     7.7\n",
       "6                             Who  I 2018     7.1\n",
       "7                     Cover Story    2000     5.8\n",
       "8                        Vaishali    1988     7.7\n",
       "9                     Maanthrikam    1995     6.3\n",
       "10                      Abhimanyu    1991     7.1\n",
       "11               Inspector Balram    1991     6.9\n",
       "12               Satyameva Jayate    2000     5.3\n",
       "13           Veettilekkulla Vazhi    2011     6.8\n",
       "14  Alavuddinum Athbutha Vilakkum    1979     6.8\n",
       "15                      The Train    2011     4.5"
      ]
     },
     "execution_count": 202,
     "metadata": {},
     "output_type": "execute_result"
    }
   ],
   "source": [
    "q17 = \"\"\"select Movie.title, Movie.year, Movie.rating\n",
    "from Movie\n",
    "inner join M_Language\n",
    "on Movie.MID=M_Language.MID\n",
    "WHERE M_Language.LAID = 19;\n",
    "\n",
    "\"\"\"\n",
    "result = pd.read_sql_query(q17, conn)\n",
    "result"
   ]
  },
  {
   "cell_type": "code",
   "execution_count": 203,
   "metadata": {
    "colab": {
     "base_uri": "https://localhost:8080/"
    },
    "id": "Ji5W5cemLX0a",
    "outputId": "1f8d1258-02e8-4854-afe3-b9583b1e4f2b"
   },
   "outputs": [
    {
     "name": "stdout",
     "output_type": "stream",
     "text": [
      "True\n"
     ]
    }
   ],
   "source": [
    "def q17_grader(q17):\n",
    "  result = pd.read_sql_query(q17, conn)\n",
    "  return result.shape==(16,3)\n",
    "print(q17_grader(q17))"
   ]
  },
  {
   "cell_type": "code",
   "execution_count": 204,
   "metadata": {
    "id": "GhjTNuPwqO7z"
   },
   "outputs": [
    {
     "ename": "SyntaxError",
     "evalue": "unmatched ']' (3434161922.py, line 4)",
     "output_type": "error",
     "traceback": [
      "\u001b[1;36m  Cell \u001b[1;32mIn[204], line 4\u001b[1;36m\u001b[0m\n\u001b[1;33m    cursor = conn.cursor()]\u001b[0m\n\u001b[1;37m                          ^\u001b[0m\n\u001b[1;31mSyntaxError\u001b[0m\u001b[1;31m:\u001b[0m unmatched ']'\n"
     ]
    }
   ],
   "source": [
    "![ -f academic.db ] && rm academic.db\n",
    "\n",
    "conn = sqlite3.connect(\"academic.db\")\n",
    "cursor = conn.cursor()]"
   ]
  },
  {
   "cell_type": "markdown",
   "metadata": {
    "id": "aH8Y1PS9OZyj"
   },
   "source": [
    "## 18. Write SQL query to Create a table named students with two columns id (integer type) and name (varchar type)"
   ]
  },
  {
   "cell_type": "code",
   "execution_count": null,
   "metadata": {
    "id": "TsaafyrxIYFd"
   },
   "outputs": [],
   "source": [
    "q18a = \"\"\"CREATE TABLE if not exists students\n",
    "(id int(10) primary key,\n",
    "name varchar(255));\"\"\"\n",
    "result = pd.read_sql_query(q18, conn)\n",
    "result"
   ]
  },
  {
   "cell_type": "code",
   "execution_count": 206,
   "metadata": {
    "colab": {
     "base_uri": "https://localhost:8080/"
    },
    "id": "whuIWdc4OAzm",
    "outputId": "7781e943-7afe-4760-d35c-2f71dba1f615"
   },
   "outputs": [
    {
     "name": "stdout",
     "output_type": "stream",
     "text": [
      "True\n"
     ]
    }
   ],
   "source": [
    "def q18_grader_a(q18):\n",
    "  try:\n",
    "    cursor.execute(q18)\n",
    "    return True\n",
    "  except:\n",
    "    pass\n",
    "\n",
    "def q18_grader_b(q19):\n",
    "  result = pd.read_sql_query(q19, conn)\n",
    "  return result.columns.tolist() == ['id', 'name']\n",
    "\n",
    "q18b = \"\"\"SELECT * FROM students;\"\"\"\n",
    "\n",
    "print(q18_grader_a(q18a) and q18_grader_b(q18b))"
   ]
  },
  {
   "cell_type": "markdown",
   "metadata": {
    "id": "-hRir0DKPa9I"
   },
   "source": [
    "## 19. Write SQL query to insert the values (1, 'Alice') into students table"
   ]
  },
  {
   "cell_type": "code",
   "execution_count": null,
   "metadata": {
    "id": "4x6gmopqq6s2"
   },
   "outputs": [],
   "source": [
    "q19_a = \"\"\"INSERT INTO students (id, name)\n",
    "VALUES (1, 'Alice');\n",
    ";\"\"\"\n",
    "result = pd.read_sql_query(q19_a, conn)\n",
    "result"
   ]
  },
  {
   "cell_type": "code",
   "execution_count": 208,
   "metadata": {
    "id": "4x6gmopqq6s2"
   },
   "outputs": [
    {
     "data": {
      "text/html": [
       "<div>\n",
       "<style scoped>\n",
       "    .dataframe tbody tr th:only-of-type {\n",
       "        vertical-align: middle;\n",
       "    }\n",
       "\n",
       "    .dataframe tbody tr th {\n",
       "        vertical-align: top;\n",
       "    }\n",
       "\n",
       "    .dataframe thead th {\n",
       "        text-align: right;\n",
       "    }\n",
       "</style>\n",
       "<table border=\"1\" class=\"dataframe\">\n",
       "  <thead>\n",
       "    <tr style=\"text-align: right;\">\n",
       "      <th></th>\n",
       "      <th>id</th>\n",
       "      <th>name</th>\n",
       "    </tr>\n",
       "  </thead>\n",
       "  <tbody>\n",
       "  </tbody>\n",
       "</table>\n",
       "</div>"
      ],
      "text/plain": [
       "Empty DataFrame\n",
       "Columns: [id, name]\n",
       "Index: []"
      ]
     },
     "execution_count": 208,
     "metadata": {},
     "output_type": "execute_result"
    }
   ],
   "source": [
    "q19_b=\"\"\"SELECT * FROM students\"\"\"\n",
    "result = pd.read_sql_query(q19_b, conn)\n",
    "result"
   ]
  },
  {
   "cell_type": "code",
   "execution_count": 209,
   "metadata": {
    "colab": {
     "base_uri": "https://localhost:8080/"
    },
    "id": "Bwq8A_58qXS7",
    "outputId": "33c05d95-b372-4643-8be6-c6d7dd0fd3f1"
   },
   "outputs": [
    {
     "name": "stdout",
     "output_type": "stream",
     "text": [
      "False\n"
     ]
    }
   ],
   "source": [
    "def q19_grader_a(q19_a):\n",
    "  try:\n",
    "    cursor.execute(q19_a)\n",
    "  except:\n",
    "    pass\n",
    "  return True\n",
    "\n",
    "def q19_grader_b(q19_b):\n",
    "  result = pd.read_sql_query(q19_b, conn)\n",
    "  return result.values.tolist() == [[1, 'Alice']]\n",
    "\n",
    "q19_b = \"SELECT * FROM students\"\n",
    "print(q19_grader_a(q19_a) and q19_grader_b(q19_b))"
   ]
  },
  {
   "cell_type": "markdown",
   "metadata": {
    "id": "PuQ4VFtwSu6x"
   },
   "source": [
    "## 20. Write SQL Query to add the following more information to students table\n",
    "\n",
    "| ID | Name    |\n",
    "|----|---------|\n",
    "| 2  | Bob     |\n",
    "| 3  | Charlie |"
   ]
  },
  {
   "cell_type": "code",
   "execution_count": null,
   "metadata": {
    "id": "mGQrZEhKqgMo"
   },
   "outputs": [],
   "source": [
    "q20 = \"\"\"INSERT INTO students (id, name)\n",
    "VALUES (2, 'Bob');\n",
    "INSERT INTO students (id, name)\n",
    "VALUES (3, 'Charlie');\"\"\"\n",
    "result = pd.read_sql_query(q20, conn)\n",
    "result"
   ]
  },
  {
   "cell_type": "code",
   "execution_count": 216,
   "metadata": {},
   "outputs": [
    {
     "data": {
      "text/html": [
       "<div>\n",
       "<style scoped>\n",
       "    .dataframe tbody tr th:only-of-type {\n",
       "        vertical-align: middle;\n",
       "    }\n",
       "\n",
       "    .dataframe tbody tr th {\n",
       "        vertical-align: top;\n",
       "    }\n",
       "\n",
       "    .dataframe thead th {\n",
       "        text-align: right;\n",
       "    }\n",
       "</style>\n",
       "<table border=\"1\" class=\"dataframe\">\n",
       "  <thead>\n",
       "    <tr style=\"text-align: right;\">\n",
       "      <th></th>\n",
       "      <th>id</th>\n",
       "      <th>name</th>\n",
       "    </tr>\n",
       "  </thead>\n",
       "  <tbody>\n",
       "  </tbody>\n",
       "</table>\n",
       "</div>"
      ],
      "text/plain": [
       "Empty DataFrame\n",
       "Columns: [id, name]\n",
       "Index: []"
      ]
     },
     "execution_count": 216,
     "metadata": {},
     "output_type": "execute_result"
    }
   ],
   "source": [
    "q20_b=\"\"\"Select * from students;\"\"\"\n",
    "result = pd.read_sql_query(q20_b, conn)\n",
    "result"
   ]
  },
  {
   "cell_type": "code",
   "execution_count": 212,
   "metadata": {
    "colab": {
     "base_uri": "https://localhost:8080/"
    },
    "id": "FRZxVn3xTAjk",
    "outputId": "c703e93e-c823-4728-aabd-0f720815fefb"
   },
   "outputs": [
    {
     "name": "stdout",
     "output_type": "stream",
     "text": [
      "False\n"
     ]
    }
   ],
   "source": [
    "def q20_grader(q20):\n",
    "  try:\n",
    "    cursor.execute(q20)\n",
    "  except:\n",
    "    pass\n",
    "  return True\n",
    "\n",
    "def q20_grader_b(q20_b):\n",
    "  result = pd.read_sql_query(q20_b, conn)\n",
    "  return result.values.tolist() == [[1, 'Alice'], [2, 'Bob'], [3, 'Charlie']]\n",
    "\n",
    "print(q20_grader(q20) and q20_grader_b(q19_b))"
   ]
  },
  {
   "cell_type": "code",
   "execution_count": 213,
   "metadata": {
    "id": "qYNpS7UEhKc4"
   },
   "outputs": [],
   "source": [
    "# conn.close()"
   ]
  },
  {
   "cell_type": "code",
   "execution_count": null,
   "metadata": {
    "id": "53tIpYUusRVC"
   },
   "outputs": [],
   "source": []
  },
  {
   "cell_type": "code",
   "execution_count": null,
   "metadata": {},
   "outputs": [],
   "source": []
  },
  {
   "cell_type": "code",
   "execution_count": null,
   "metadata": {},
   "outputs": [],
   "source": []
  },
  {
   "cell_type": "code",
   "execution_count": null,
   "metadata": {},
   "outputs": [],
   "source": []
  }
 ],
 "metadata": {
  "colab": {
   "provenance": []
  },
  "kernelspec": {
   "display_name": "Python 3 (ipykernel)",
   "language": "python",
   "name": "python3"
  },
  "language_info": {
   "codemirror_mode": {
    "name": "ipython",
    "version": 3
   },
   "file_extension": ".py",
   "mimetype": "text/x-python",
   "name": "python",
   "nbconvert_exporter": "python",
   "pygments_lexer": "ipython3",
   "version": "3.13.2"
  }
 },
 "nbformat": 4,
 "nbformat_minor": 4
}
